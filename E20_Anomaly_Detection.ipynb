{
 "cells": [
  {
   "cell_type": "markdown",
   "metadata": {},
   "source": [
    "# Anomaly Detection\n",
    "\n",
    "## 평가 루브릭\n",
    "\n",
    "아래의 기준을 바탕으로 프로젝트를 평가합니다.\n",
    "\n",
    "평가문항 상세기준\n",
    "1. 적절한 기본통계분석을 통해 이상치를 분류하였다. : 시계열 Residual에 대한 분석을 통해 신뢰구간 밖의 데이터를 찾고 이상치 종류와 처리방안을 타당하게 제시하였다.\n",
    "2. Unsupervised Clustering을 통해 이상치를 분류하였다. :  k-mean와 DBSCAN을 통해 이상치 데이터를 찾고 이에 대한 해석과 처리방안을 타당하게 제시하였다.\n",
    "3. LSTM 오토인코더를 통해 이상치를 분류하였다. : LSTM 오토인코더 학습을 성공적으로 진행한 후, 이상치 데이터를 분류해 보고 이전 결과와 비교하여 보았다."
   ]
  },
  {
   "cell_type": "code",
   "execution_count": null,
   "metadata": {},
   "outputs": [],
   "source": []
  }
 ],
 "metadata": {
  "kernelspec": {
   "display_name": "Python 3",
   "language": "python",
   "name": "python3"
  },
  "language_info": {
   "codemirror_mode": {
    "name": "ipython",
    "version": 3
   },
   "file_extension": ".py",
   "mimetype": "text/x-python",
   "name": "python",
   "nbconvert_exporter": "python",
   "pygments_lexer": "ipython3",
   "version": "3.7.6"
  }
 },
 "nbformat": 4,
 "nbformat_minor": 4
}
